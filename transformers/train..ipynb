{
 "cells": [
  {
   "cell_type": "code",
   "execution_count": 1,
   "metadata": {},
   "outputs": [
    {
     "name": "stderr",
     "output_type": "stream",
     "text": [
      "--2024-12-28 16:44:31--  https://raw.githubusercontent.com/karpathy/char-rnn/master/data/tinyshakespeare/input.txt\n",
      "Resolving raw.githubusercontent.com (raw.githubusercontent.com)... 185.199.108.133, 185.199.110.133, 185.199.109.133, ...\n",
      "Connecting to raw.githubusercontent.com (raw.githubusercontent.com)|185.199.108.133|:443... connected.\n",
      "HTTP request sent, awaiting response... 200 OK\n",
      "Length: 1115394 (1.1M) [text/plain]\n",
      "Saving to: ‘input.txt.3’\n",
      "\n",
      "     0K .......... .......... .......... .......... ..........  4% 3.12M 0s\n",
      "    50K .......... .......... .......... .......... ..........  9% 4.24M 0s\n",
      "   100K .......... .......... .......... .......... .......... 13% 16.8M 0s\n",
      "   150K .......... .......... .......... .......... .......... 18% 16.9M 0s\n",
      "   200K .......... .......... .......... .......... .......... 22% 6.25M 0s\n",
      "   250K .......... .......... .......... .......... .......... 27% 31.5M 0s\n",
      "   300K .......... .......... .......... .......... .......... 32% 28.9M 0s\n",
      "   350K .......... .......... .......... .......... .......... 36% 49.7M 0s\n",
      "   400K .......... .......... .......... .......... .......... 41% 21.9M 0s\n",
      "   450K .......... .......... .......... .......... .......... 45% 7.35M 0s\n",
      "   500K .......... .......... .......... .......... .......... 50%  225M 0s\n",
      "   550K .......... .......... .......... .......... .......... 55% 78.7M 0s\n",
      "   600K .......... .......... .......... .......... .......... 59% 38.8M 0s\n",
      "   650K .......... .......... .......... .......... .......... 64% 38.1M 0s\n",
      "   700K .......... .......... .......... .......... .......... 68% 44.8M 0s\n",
      "   750K .......... .......... .......... .......... .......... 73%  405M 0s\n",
      "   800K .......... .......... .......... .......... .......... 78% 38.4M 0s\n",
      "   850K .......... .......... .......... .......... .......... 82% 70.0M 0s\n",
      "   900K .......... .......... .......... .......... .......... 87% 88.2M 0s\n",
      "   950K .......... .......... .......... .......... .......... 91% 7.80M 0s\n",
      "  1000K .......... .......... .......... .......... .......... 96%  245M 0s\n",
      "  1050K .......... .......... .......... .........            100%  430M=0.07s\n",
      "\n",
      "2024-12-28 16:44:32 (15.7 MB/s) - ‘input.txt.3’ saved [1115394/1115394]\n",
      "\n"
     ]
    },
    {
     "data": {
      "text/plain": [
       "CompletedProcess(args=['wget', 'https://raw.githubusercontent.com/karpathy/char-rnn/master/data/tinyshakespeare/input.txt'], returncode=0)"
      ]
     },
     "execution_count": 1,
     "metadata": {},
     "output_type": "execute_result"
    }
   ],
   "source": [
    "import subprocess\n",
    "subprocess.run([\"wget\", \"https://raw.githubusercontent.com/karpathy/char-rnn/master/data/tinyshakespeare/input.txt\"])"
   ]
  },
  {
   "cell_type": "code",
   "execution_count": 1,
   "metadata": {},
   "outputs": [
    {
     "name": "stdout",
     "output_type": "stream",
     "text": [
      "length of dataset in characters:  1115394\n"
     ]
    }
   ],
   "source": [
    "with open('input.txt', 'r', encoding='utf-8') as f:\n",
    "    text = f.read()\n",
    "\n",
    "print(\"length of dataset in characters: \", len(text))"
   ]
  },
  {
   "cell_type": "code",
   "execution_count": 2,
   "metadata": {},
   "outputs": [],
   "source": [
    "chars = sorted(list(set(text)))\n",
    "vocab_size = len(chars)\n",
    "# print(''.join(chars))\n",
    "# print(vocab_size)\n"
   ]
  },
  {
   "cell_type": "code",
   "execution_count": 3,
   "metadata": {},
   "outputs": [],
   "source": [
    "stoi = { ch:i for i,ch in enumerate(chars) }\n",
    "itos = { i:ch for i,ch in enumerate(chars)}\n",
    "encode = lambda s: [stoi[c] for c in s]          # encoder: take a string, output a list of integers\n",
    "decode = lambda l: ''.join([itos[i] for i in l]) # decoder: take a list of integers, output a string"
   ]
  },
  {
   "cell_type": "code",
   "execution_count": 4,
   "metadata": {},
   "outputs": [
    {
     "name": "stderr",
     "output_type": "stream",
     "text": [
      "/root/aiRoot/0-AI/AI/.venv/lib/python3.11/site-packages/torch/_subclasses/functional_tensor.py:295: UserWarning: Failed to initialize NumPy: No module named 'numpy' (Triggered internally at ../torch/csrc/utils/tensor_numpy.cpp:84.)\n",
      "  cpu = _conversion_method_template(device=torch.device(\"cpu\"))\n"
     ]
    }
   ],
   "source": [
    "import torch\n",
    "data = torch.tensor(encode(text), dtype=torch.long)\n"
   ]
  },
  {
   "cell_type": "code",
   "execution_count": 5,
   "metadata": {},
   "outputs": [],
   "source": [
    "n = int(0.9*len(data))\n",
    "train_data = data[:n]\n",
    "val_data = data[n:]"
   ]
  },
  {
   "cell_type": "code",
   "execution_count": 6,
   "metadata": {},
   "outputs": [
    {
     "data": {
      "text/plain": [
       "tensor([18, 47, 56, 57, 58,  1, 15, 47, 58])"
      ]
     },
     "execution_count": 6,
     "metadata": {},
     "output_type": "execute_result"
    }
   ],
   "source": [
    "block_size = 8\n",
    "train_data[:block_size+1]"
   ]
  },
  {
   "cell_type": "code",
   "execution_count": 8,
   "metadata": {},
   "outputs": [
    {
     "name": "stdout",
     "output_type": "stream",
     "text": [
      "for context: tensor([18]) the target is: 47\n",
      "for context: tensor([18, 47]) the target is: 56\n",
      "for context: tensor([18, 47, 56]) the target is: 57\n",
      "for context: tensor([18, 47, 56, 57]) the target is: 58\n",
      "for context: tensor([18, 47, 56, 57, 58]) the target is: 1\n",
      "for context: tensor([18, 47, 56, 57, 58,  1]) the target is: 15\n",
      "for context: tensor([18, 47, 56, 57, 58,  1, 15]) the target is: 47\n",
      "for context: tensor([18, 47, 56, 57, 58,  1, 15, 47]) the target is: 58\n"
     ]
    }
   ],
   "source": [
    "x = train_data[:block_size]\n",
    "y = train_data[1:block_size+1]\n",
    "for t in range(block_size):\n",
    "    context = x[:t+1]\n",
    "    target = y[t]\n",
    "    print(f\"for context: {context} the target is: {target}\")"
   ]
  },
  {
   "cell_type": "code",
   "execution_count": 25,
   "metadata": {},
   "outputs": [
    {
     "name": "stdout",
     "output_type": "stream",
     "text": [
      "tensor([ 76049, 234249, 934904, 560986])\n"
     ]
    }
   ],
   "source": [
    "torch.manual_seed(1337)\n",
    "batch_size = 4\n",
    "block_size = 8\n",
    "\n",
    "def get_batch(split):\n",
    "    data = train_data if split == \"train\" else val_data\n",
    "    ix = torch.randint(len(data) - block_size , (batch_size,))\n",
    "    print(ix)\n",
    "    x = torch.stack([data[i:i+block_size] for i in ix])\n",
    "    y = torch.stack([data[i+1:i+block_size+1]  for i in ix])\n",
    "    return x, y\n",
    "    \n",
    "xb, yb = get_batch('train')"
   ]
  },
  {
   "cell_type": "code",
   "execution_count": null,
   "metadata": {},
   "outputs": [],
   "source": []
  },
  {
   "cell_type": "code",
   "execution_count": null,
   "metadata": {},
   "outputs": [],
   "source": []
  }
 ],
 "metadata": {
  "kernelspec": {
   "display_name": ".venv",
   "language": "python",
   "name": "python3"
  },
  "language_info": {
   "codemirror_mode": {
    "name": "ipython",
    "version": 3
   },
   "file_extension": ".py",
   "mimetype": "text/x-python",
   "name": "python",
   "nbconvert_exporter": "python",
   "pygments_lexer": "ipython3",
   "version": "3.11.6"
  }
 },
 "nbformat": 4,
 "nbformat_minor": 2
}
