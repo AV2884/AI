{
 "cells": [
  {
   "cell_type": "code",
   "execution_count": 1,
   "metadata": {},
   "outputs": [],
   "source": [
    "import math\n",
    "import numpy as np\n",
    "import matplotlib.pyplot as plt\n",
    "%matplotlib inline"
   ]
  },
  {
   "cell_type": "code",
   "execution_count": 2,
   "metadata": {},
   "outputs": [
    {
     "data": {
      "text/plain": [
       "[<matplotlib.lines.Line2D at 0x78817ec7bc10>]"
      ]
     },
     "execution_count": 2,
     "metadata": {},
     "output_type": "execute_result"
    },
    {
     "data": {
      "image/png": "[encoded data removed]",
      "text/plain": [
       "<Figure size 640x480 with 1 Axes>"
      ]
     },
     "metadata": {},
     "output_type": "display_data"
    }
   ],
   "source": [
    "%matplotlib inline\n",
    "\n",
    "def f(x):\n",
    "  return 3*x**2 - 4*x + 5\n",
    "\n",
    "xs = np.arange(-10, 10, 0.25)\n",
    "ys = f(xs)\n",
    "plt.plot(xs, ys)"
   ]
  },
  {
   "cell_type": "code",
   "execution_count": 3,
   "metadata": {},
   "outputs": [
    {
     "name": "stdout",
     "output_type": "stream",
     "text": [
      "x = 0 ,f(x)  \t->500.0\n",
      "x = 0.01 f(x+h)->496.03000000000003\n",
      "-------------------\n",
      "x = 1 ,f(x)  \t->400.0\n",
      "x = 1.01 f(x+h)->402.03\n",
      "-------------------\n",
      "x = 2 ,f(x)  \t->900.0\n",
      "x = 2.01 f(x+h)->908.0299999999997\n",
      "-------------------\n",
      "x = 3 ,f(x)  \t->2000.0\n",
      "x = 3.01 f(x+h)->2014.0299999999995\n",
      "-------------------\n",
      "x = 4 ,f(x)  \t->3700.0\n",
      "x = 4.01 f(x+h)->3720.0299999999993\n",
      "-------------------\n",
      "x = 5 ,f(x)  \t->6000.0\n",
      "x = 5.01 f(x+h)->6026.029999999999\n",
      "-------------------\n",
      "x = 6 ,f(x)  \t->8900.0\n",
      "x = 6.01 f(x+h)->8932.03\n",
      "-------------------\n",
      "x = 7 ,f(x)  \t->12400.0\n",
      "x = 7.01 f(x+h)->12438.03\n",
      "-------------------\n",
      "x = 8 ,f(x)  \t->16500.0\n",
      "x = 8.01 f(x+h)->16544.03\n",
      "-------------------\n",
      "x = 9 ,f(x)  \t->21200.0\n",
      "x = 9.01 f(x+h)->21250.03\n",
      "-------------------\n"
     ]
    }
   ],
   "source": [
    "x = 0\n",
    "h = 0.01\n",
    "\n",
    "for x in range(10):\n",
    "    pass\n",
    "    print(f\"x = {x} ,f(x)  \\t->{f(x)/h}\")\n",
    "    print(f\"x = {x+h} f(x+h)->{f(x+h)/h}\")\n",
    "    print(\"-------------------\")"
   ]
  },
  {
   "cell_type": "code",
   "execution_count": 4,
   "metadata": {},
   "outputs": [
    {
     "name": "stdout",
     "output_type": "stream",
     "text": [
      "Value(data=-8)\n"
     ]
    }
   ],
   "source": [
    "class Value:\n",
    "\n",
    "    def __init__(self, data, _children=(),_op='',label=''):\n",
    "        self.data = data\n",
    "        self._prev = set(_children)\n",
    "        self._op = _op\n",
    "        self.label = label\n",
    "\n",
    "    def __repr__(self):\n",
    "        return f\"Value(data={self.data})\"\n",
    "\n",
    "    def __add__(self, other):\n",
    "        out = Value(self.data + other.data, (self, other),'+')\n",
    "        return out\n",
    "\n",
    "    def __mul__(self, other):\n",
    "        out = Value(self.data * other.data, (self, other),'*')\n",
    "        return out\n",
    "\n",
    "a = Value(2,label='a')\n",
    "b = Value(-3,label='b')\n",
    "c = Value(10,label='c')\n",
    "e = a*b; e.label = 'e'\n",
    "d = e + c; d.label = 'd'\n",
    "f = Value(-2 ,label='f')\n",
    "L = d * f; L.label='L'\n",
    "print(L)"
   ]
  },
  {
   "cell_type": "code",
   "execution_count": 5,
   "metadata": {},
   "outputs": [],
   "source": [
    "from graphviz import Digraph\n",
    "\n",
    "def trace(root):\n",
    "    # builds a set of all nodes and edges in a graph\n",
    "    nodes, edges = set(), set()\n",
    "    def build(v):\n",
    "        if v not in nodes:\n",
    "            nodes.add(v)\n",
    "            for child in v._prev:\n",
    "                edges.add((child, v))\n",
    "                build(child)\n",
    "        \n",
    "    build(root)\n",
    "    return nodes, edges\n",
    "\n",
    "def draw_dot(root):\n",
    "    dot = Digraph(format='svg', graph_attr={'rankdir': 'LR'}) # LR = left to righ\n",
    "    nodes, edges = trace(root)\n",
    "    \n",
    "    for n in nodes:\n",
    "        \n",
    "        uid = str(id(n))\n",
    "        \n",
    "        # for any value in the graph, create a rectangular ('record') node for it\n",
    "        dot.node(name = uid, label = \"{ %s | data %.4f}\" % (n.label, n.data), shape='record')\n",
    "        \n",
    "        if n._op:\n",
    "            \n",
    "            # if this value is a result of some operation, create an op node for it\n",
    "            dot.node(name = uid + n._op, label = n._op)\n",
    "            # and connect this node to it\n",
    "            dot.edge(uid + n._op, uid)\n",
    "            \n",
    "\n",
    "    for n1, n2 in edges:\n",
    "        # connect n1 to the op node of n2\n",
    "        dot.edge(str(id(n1)), str(id(n2)) + n2._op)\n",
    "    return dot\n",
    "\n"
   ]
  },
  {
   "cell_type": "code",
   "execution_count": 8,
   "metadata": {},
   "outputs": [
    {
     "data": {
      "image/svg+xml": [
       "<?xml version=\"1.0\" encoding=\"UTF-8\" standalone=\"no\"?>\n",
       "<!DOCTYPE svg PUBLIC \"-//W3C//DTD SVG 1.1//EN\"\n",
       " \"http://www.w3.org/Graphics/SVG/1.1/DTD/svg11.dtd\">\n",
       "<!-- Generated by graphviz version 2.43.0 (0)\n",
       " -->\n",
       "<!-- Title: %3 Pages: 1 -->\n",
       "<svg width=\"820pt\" height=\"128pt\"\n",
       " viewBox=\"0.00 0.00 820.00 128.00\" xmlns=\"http://www.w3.org/2000/svg\" xmlns:xlink=\"http://www.w3.org/1999/xlink\">\n",
       "<g id=\"graph0\" class=\"graph\" transform=\"scale(1 1) rotate(0) translate(4 124)\">\n",
       "<title>%3</title>\n",
       "<polygon fill=\"white\" stroke=\"transparent\" points=\"-4,4 -4,-124 816,-124 816,4 -4,4\"/>\n",
       "<!-- 132497573884048 -->\n",
       "<g id=\"node1\" class=\"node\">\n",
       "<title>132497573884048</title>\n",
       "<polygon fill=\"none\" stroke=\"black\" points=\"234,-83.5 234,-119.5 344,-119.5 344,-83.5 234,-83.5\"/>\n",
       "<text text-anchor=\"middle\" x=\"245.5\" y=\"-97.8\" font-family=\"Times,serif\" font-size=\"14.00\">c</text>\n",
       "<polyline fill=\"none\" stroke=\"black\" points=\"257,-83.5 257,-119.5 \"/>\n",
       "<text text-anchor=\"middle\" x=\"300.5\" y=\"-97.8\" font-family=\"Times,serif\" font-size=\"14.00\">data 10.0000</text>\n",
       "</g>\n",
       "<!-- 132497573883600+ -->\n",
       "<g id=\"node3\" class=\"node\">\n",
       "<title>132497573883600+</title>\n",
       "<ellipse fill=\"none\" stroke=\"black\" cx=\"407\" cy=\"-73.5\" rx=\"27\" ry=\"18\"/>\n",
       "<text text-anchor=\"middle\" x=\"407\" y=\"-69.8\" font-family=\"Times,serif\" font-size=\"14.00\">+</text>\n",
       "</g>\n",
       "<!-- 132497573884048&#45;&gt;132497573883600+ -->\n",
       "<g id=\"edge8\" class=\"edge\">\n",
       "<title>132497573884048&#45;&gt;132497573883600+</title>\n",
       "<path fill=\"none\" stroke=\"black\" d=\"M344.26,-88.4C353.49,-86.18 362.84,-83.92 371.37,-81.86\"/>\n",
       "<polygon fill=\"black\" stroke=\"black\" points=\"372.42,-85.21 381.32,-79.46 370.78,-78.4 372.42,-85.21\"/>\n",
       "</g>\n",
       "<!-- 132497573883600 -->\n",
       "<g id=\"node2\" class=\"node\">\n",
       "<title>132497573883600</title>\n",
       "<polygon fill=\"none\" stroke=\"black\" points=\"471.5,-55.5 471.5,-91.5 574.5,-91.5 574.5,-55.5 471.5,-55.5\"/>\n",
       "<text text-anchor=\"middle\" x=\"483\" y=\"-69.8\" font-family=\"Times,serif\" font-size=\"14.00\">d</text>\n",
       "<polyline fill=\"none\" stroke=\"black\" points=\"494.5,-55.5 494.5,-91.5 \"/>\n",
       "<text text-anchor=\"middle\" x=\"534.5\" y=\"-69.8\" font-family=\"Times,serif\" font-size=\"14.00\">data 4.0000</text>\n",
       "</g>\n",
       "<!-- 132497575384464* -->\n",
       "<g id=\"node9\" class=\"node\">\n",
       "<title>132497575384464*</title>\n",
       "<ellipse fill=\"none\" stroke=\"black\" cx=\"639\" cy=\"-45.5\" rx=\"27\" ry=\"18\"/>\n",
       "<text text-anchor=\"middle\" x=\"639\" y=\"-41.8\" font-family=\"Times,serif\" font-size=\"14.00\">*</text>\n",
       "</g>\n",
       "<!-- 132497573883600&#45;&gt;132497575384464* -->\n",
       "<g id=\"edge4\" class=\"edge\">\n",
       "<title>132497573883600&#45;&gt;132497575384464*</title>\n",
       "<path fill=\"none\" stroke=\"black\" d=\"M574.67,-61.06C584.43,-58.66 594.45,-56.2 603.55,-53.96\"/>\n",
       "<polygon fill=\"black\" stroke=\"black\" points=\"604.5,-57.33 613.37,-51.55 602.83,-50.54 604.5,-57.33\"/>\n",
       "</g>\n",
       "<!-- 132497573883600+&#45;&gt;132497573883600 -->\n",
       "<g id=\"edge1\" class=\"edge\">\n",
       "<title>132497573883600+&#45;&gt;132497573883600</title>\n",
       "<path fill=\"none\" stroke=\"black\" d=\"M434.15,-73.5C442.26,-73.5 451.57,-73.5 461.02,-73.5\"/>\n",
       "<polygon fill=\"black\" stroke=\"black\" points=\"461.28,-77 471.28,-73.5 461.28,-70 461.28,-77\"/>\n",
       "</g>\n",
       "<!-- 132497573882576 -->\n",
       "<g id=\"node4\" class=\"node\">\n",
       "<title>132497573882576</title>\n",
       "<polygon fill=\"none\" stroke=\"black\" points=\"235,-28.5 235,-64.5 343,-64.5 343,-28.5 235,-28.5\"/>\n",
       "<text text-anchor=\"middle\" x=\"246.5\" y=\"-42.8\" font-family=\"Times,serif\" font-size=\"14.00\">e</text>\n",
       "<polyline fill=\"none\" stroke=\"black\" points=\"258,-28.5 258,-64.5 \"/>\n",
       "<text text-anchor=\"middle\" x=\"300.5\" y=\"-42.8\" font-family=\"Times,serif\" font-size=\"14.00\">data &#45;6.0000</text>\n",
       "</g>\n",
       "<!-- 132497573882576&#45;&gt;132497573883600+ -->\n",
       "<g id=\"edge9\" class=\"edge\">\n",
       "<title>132497573882576&#45;&gt;132497573883600+</title>\n",
       "<path fill=\"none\" stroke=\"black\" d=\"M343.25,-58.89C352.75,-61.11 362.43,-63.36 371.24,-65.41\"/>\n",
       "<polygon fill=\"black\" stroke=\"black\" points=\"370.6,-68.85 381.14,-67.71 372.19,-62.04 370.6,-68.85\"/>\n",
       "</g>\n",
       "<!-- 132497573882576* -->\n",
       "<g id=\"node5\" class=\"node\">\n",
       "<title>132497573882576*</title>\n",
       "<ellipse fill=\"none\" stroke=\"black\" cx=\"171\" cy=\"-46.5\" rx=\"27\" ry=\"18\"/>\n",
       "<text text-anchor=\"middle\" x=\"171\" y=\"-42.8\" font-family=\"Times,serif\" font-size=\"14.00\">*</text>\n",
       "</g>\n",
       "<!-- 132497573882576*&#45;&gt;132497573882576 -->\n",
       "<g id=\"edge2\" class=\"edge\">\n",
       "<title>132497573882576*&#45;&gt;132497573882576</title>\n",
       "<path fill=\"none\" stroke=\"black\" d=\"M198.03,-46.5C206.08,-46.5 215.32,-46.5 224.74,-46.5\"/>\n",
       "<polygon fill=\"black\" stroke=\"black\" points=\"224.99,-50 234.99,-46.5 224.99,-43 224.99,-50\"/>\n",
       "</g>\n",
       "<!-- 132497573884240 -->\n",
       "<g id=\"node6\" class=\"node\">\n",
       "<title>132497573884240</title>\n",
       "<polygon fill=\"none\" stroke=\"black\" points=\"470,-0.5 470,-36.5 576,-36.5 576,-0.5 470,-0.5\"/>\n",
       "<text text-anchor=\"middle\" x=\"480.5\" y=\"-14.8\" font-family=\"Times,serif\" font-size=\"14.00\">f</text>\n",
       "<polyline fill=\"none\" stroke=\"black\" points=\"491,-0.5 491,-36.5 \"/>\n",
       "<text text-anchor=\"middle\" x=\"533.5\" y=\"-14.8\" font-family=\"Times,serif\" font-size=\"14.00\">data &#45;2.0000</text>\n",
       "</g>\n",
       "<!-- 132497573884240&#45;&gt;132497575384464* -->\n",
       "<g id=\"edge5\" class=\"edge\">\n",
       "<title>132497573884240&#45;&gt;132497575384464*</title>\n",
       "<path fill=\"none\" stroke=\"black\" d=\"M576.33,-30.89C585.48,-33.06 594.8,-35.27 603.33,-37.29\"/>\n",
       "<polygon fill=\"black\" stroke=\"black\" points=\"602.73,-40.74 613.27,-39.64 604.34,-33.93 602.73,-40.74\"/>\n",
       "</g>\n",
       "<!-- 132497573273936 -->\n",
       "<g id=\"node7\" class=\"node\">\n",
       "<title>132497573273936</title>\n",
       "<polygon fill=\"none\" stroke=\"black\" points=\"0,-56.5 0,-92.5 108,-92.5 108,-56.5 0,-56.5\"/>\n",
       "<text text-anchor=\"middle\" x=\"11.5\" y=\"-70.8\" font-family=\"Times,serif\" font-size=\"14.00\">b</text>\n",
       "<polyline fill=\"none\" stroke=\"black\" points=\"23,-56.5 23,-92.5 \"/>\n",
       "<text text-anchor=\"middle\" x=\"65.5\" y=\"-70.8\" font-family=\"Times,serif\" font-size=\"14.00\">data &#45;3.0000</text>\n",
       "</g>\n",
       "<!-- 132497573273936&#45;&gt;132497573882576* -->\n",
       "<g id=\"edge6\" class=\"edge\">\n",
       "<title>132497573273936&#45;&gt;132497573882576*</title>\n",
       "<path fill=\"none\" stroke=\"black\" d=\"M108.12,-61.57C117.51,-59.28 127.06,-56.95 135.76,-54.84\"/>\n",
       "<polygon fill=\"black\" stroke=\"black\" points=\"136.62,-58.23 145.51,-52.46 134.97,-51.43 136.62,-58.23\"/>\n",
       "</g>\n",
       "<!-- 132497575384464 -->\n",
       "<g id=\"node8\" class=\"node\">\n",
       "<title>132497575384464</title>\n",
       "<polygon fill=\"none\" stroke=\"black\" points=\"702,-27.5 702,-63.5 812,-63.5 812,-27.5 702,-27.5\"/>\n",
       "<text text-anchor=\"middle\" x=\"714.5\" y=\"-41.8\" font-family=\"Times,serif\" font-size=\"14.00\">L</text>\n",
       "<polyline fill=\"none\" stroke=\"black\" points=\"727,-27.5 727,-63.5 \"/>\n",
       "<text text-anchor=\"middle\" x=\"769.5\" y=\"-41.8\" font-family=\"Times,serif\" font-size=\"14.00\">data &#45;8.0000</text>\n",
       "</g>\n",
       "<!-- 132497575384464*&#45;&gt;132497575384464 -->\n",
       "<g id=\"edge3\" class=\"edge\">\n",
       "<title>132497575384464*&#45;&gt;132497575384464</title>\n",
       "<path fill=\"none\" stroke=\"black\" d=\"M666.03,-45.5C673.7,-45.5 682.45,-45.5 691.42,-45.5\"/>\n",
       "<polygon fill=\"black\" stroke=\"black\" points=\"691.58,-49 701.58,-45.5 691.58,-42 691.58,-49\"/>\n",
       "</g>\n",
       "<!-- 132497573872592 -->\n",
       "<g id=\"node10\" class=\"node\">\n",
       "<title>132497573872592</title>\n",
       "<polygon fill=\"none\" stroke=\"black\" points=\"2.5,-1.5 2.5,-37.5 105.5,-37.5 105.5,-1.5 2.5,-1.5\"/>\n",
       "<text text-anchor=\"middle\" x=\"14\" y=\"-15.8\" font-family=\"Times,serif\" font-size=\"14.00\">a</text>\n",
       "<polyline fill=\"none\" stroke=\"black\" points=\"25.5,-1.5 25.5,-37.5 \"/>\n",
       "<text text-anchor=\"middle\" x=\"65.5\" y=\"-15.8\" font-family=\"Times,serif\" font-size=\"14.00\">data 2.0000</text>\n",
       "</g>\n",
       "<!-- 132497573872592&#45;&gt;132497573882576* -->\n",
       "<g id=\"edge7\" class=\"edge\">\n",
       "<title>132497573872592&#45;&gt;132497573882576*</title>\n",
       "<path fill=\"none\" stroke=\"black\" d=\"M105.78,-31.42C115.74,-33.76 125.98,-36.17 135.28,-38.35\"/>\n",
       "<polygon fill=\"black\" stroke=\"black\" points=\"134.77,-41.82 145.3,-40.7 136.37,-35.01 134.77,-41.82\"/>\n",
       "</g>\n",
       "</g>\n",
       "</svg>\n"
      ],
      "text/plain": [
       "<graphviz.graphs.Digraph at 0x78817ecb0450>"
      ]
     },
     "execution_count": 8,
     "metadata": {},
     "output_type": "execute_result"
    }
   ],
   "source": [
    "draw_dot(L)\n"
   ]
  },
  {
   "cell_type": "code",
   "execution_count": null,
   "metadata": {},
   "outputs": [],
   "source": []
  }
 ],
 "metadata": {
  "kernelspec": {
   "display_name": "Python 3.11.6 ('ai_venv': venv)",
   "language": "python",
   "name": "python3"
  },
  "language_info": {
   "codemirror_mode": {
    "name": "ipython",
    "version": 3
   },
   "file_extension": ".py",
   "mimetype": "text/x-python",
   "name": "python",
   "nbconvert_exporter": "python",
   "pygments_lexer": "ipython3",
   "version": "3.11.6"
  },
  "orig_nbformat": 4,
  "vscode": {
   "interpreter": {
    "hash": "e1872283aea74bdae11169088b0ea9117c360e9be939f01765db1e67f4e478a7"
   }
  }
 },
 "nbformat": 4,
 "nbformat_minor": 2
}
